{
 "cells": [
  {
   "cell_type": "markdown",
   "id": "0cc159ab-b21f-4ec7-a6b8-e88cb0a50c4f",
   "metadata": {},
   "source": [
    "# Essentials"
   ]
  },
  {
   "cell_type": "code",
   "execution_count": 1,
   "id": "53197954-dbdc-4789-90af-4a0a713210c2",
   "metadata": {},
   "outputs": [],
   "source": [
    "import sys\n",
    "sys.path.append(\"../\")"
   ]
  },
  {
   "cell_type": "code",
   "execution_count": 5,
   "id": "ee426828-c420-4cb2-97c4-d6d6cf472ca5",
   "metadata": {},
   "outputs": [
    {
     "name": "stdout",
     "output_type": "stream",
     "text": [
      "bin\t\t  crypto_deltalake.log\t__pycache__\tREADME.md  tables\n",
      "crypto_deltalake  notebooks\t\tpyproject.toml\truff.toml  uv.lock\n"
     ]
    }
   ],
   "source": [
    "!ls .."
   ]
  },
  {
   "cell_type": "code",
   "execution_count": 13,
   "id": "40a42231-9720-4e98-9159-7e61a01c73f4",
   "metadata": {},
   "outputs": [],
   "source": [
    "import polars as pl\n",
    "import deltalake\n",
    "from crypto_deltalake.config import TABLE_LIQUIDATION_PATH"
   ]
  },
  {
   "cell_type": "code",
   "execution_count": 45,
   "id": "4071f451-994f-45cd-92d0-701139ee1f91",
   "metadata": {},
   "outputs": [],
   "source": [
    "import seaborn as sns"
   ]
  },
  {
   "cell_type": "markdown",
   "id": "2ea15af1-189b-43f0-ba77-3111f7521411",
   "metadata": {},
   "source": [
    "# Read data"
   ]
  },
  {
   "cell_type": "code",
   "execution_count": 21,
   "id": "1d712326-cfd7-41bb-98bb-1a2bce241783",
   "metadata": {},
   "outputs": [
    {
     "data": {
      "text/html": [
       "<i>naive plan: (run <b>LazyFrame.explain(optimized=True)</b> to see the optimized plan)</i>\n",
       "    <p></p>\n",
       "    <div>SORT BY [col(\"time\")]<p></p>  FILTER [(col(\"symbol\")) == (\"BTCUSDT\")]<p></p>  FROM<p></p>    Parquet SCAN [/home/vlad/github/volynvlad/crypto-deltalake/tables/liquidation/part-00001-82f7c23d-03e8-41e1-80e6-dcfa002191e7-c000.snappy.parquet, ... 749 other sources]<p></p>    PROJECT */9 COLUMNS</div>"
      ],
      "text/plain": [
       "<LazyFrame at 0x7F1E441F9640>"
      ]
     },
     "metadata": {},
     "output_type": "display_data"
    },
    {
     "data": {
      "text/html": [
       "<div><style>\n",
       ".dataframe > thead > tr,\n",
       ".dataframe > tbody > tr {\n",
       "  text-align: right;\n",
       "  white-space: pre-wrap;\n",
       "}\n",
       "</style>\n",
       "<small>shape: (404, 9)</small><table border=\"1\" class=\"dataframe\"><thead><tr><th>time</th><th>symbol</th><th>side</th><th>original_quantity</th><th>price</th><th>avg_price</th><th>status</th><th>last_filled_quantity</th><th>filled_accum_quantity</th></tr><tr><td>datetime[μs]</td><td>str</td><td>str</td><td>f64</td><td>f64</td><td>f64</td><td>str</td><td>f64</td><td>f64</td></tr></thead><tbody><tr><td>2025-04-19 19:10:24</td><td>&quot;BTCUSDT&quot;</td><td>&quot;SELL&quot;</td><td>0.004</td><td>84481.34</td><td>84819.9</td><td>null</td><td>null</td><td>null</td></tr><tr><td>2025-04-19 19:18:45</td><td>&quot;BTCUSDT&quot;</td><td>&quot;BUY&quot;</td><td>0.017</td><td>85286.13</td><td>84960.0</td><td>null</td><td>null</td><td>null</td></tr><tr><td>2025-04-19 20:31:29</td><td>&quot;BTCUSDT&quot;</td><td>&quot;BUY&quot;</td><td>0.087</td><td>85578.51</td><td>85238.0</td><td>null</td><td>null</td><td>null</td></tr><tr><td>2025-04-19 20:34:39</td><td>&quot;BTCUSDT&quot;</td><td>&quot;BUY&quot;</td><td>0.015</td><td>85604.2</td><td>85265.0</td><td>null</td><td>null</td><td>null</td></tr><tr><td>2025-04-19 20:35:08</td><td>&quot;BTCUSDT&quot;</td><td>&quot;BUY&quot;</td><td>0.043</td><td>85606.1</td><td>85270.4</td><td>null</td><td>null</td><td>null</td></tr><tr><td>&hellip;</td><td>&hellip;</td><td>&hellip;</td><td>&hellip;</td><td>&hellip;</td><td>&hellip;</td><td>&hellip;</td><td>&hellip;</td><td>&hellip;</td></tr><tr><td>2025-04-20 16:59:11</td><td>&quot;BTCUSDT&quot;</td><td>&quot;SELL&quot;</td><td>0.591</td><td>84269.33</td><td>84584.5</td><td>&quot;FILLED&quot;</td><td>0.591</td><td>0.591</td></tr><tr><td>2025-04-20 16:59:14</td><td>&quot;BTCUSDT&quot;</td><td>&quot;BUY&quot;</td><td>0.002</td><td>84909.19</td><td>84584.6</td><td>&quot;FILLED&quot;</td><td>0.002</td><td>0.002</td></tr><tr><td>2025-04-20 17:03:04</td><td>&quot;BTCUSDT&quot;</td><td>&quot;SELL&quot;</td><td>0.015</td><td>84217.98</td><td>84542.7</td><td>&quot;FILLED&quot;</td><td>0.007</td><td>0.015</td></tr><tr><td>2025-04-20 17:03:27</td><td>&quot;BTCUSDT&quot;</td><td>&quot;SELL&quot;</td><td>0.002</td><td>84188.08</td><td>84522.4</td><td>&quot;FILLED&quot;</td><td>0.002</td><td>0.002</td></tr><tr><td>2025-04-20 17:20:52</td><td>&quot;BTCUSDT&quot;</td><td>&quot;SELL&quot;</td><td>0.003</td><td>84051.59</td><td>84388.1</td><td>&quot;FILLED&quot;</td><td>0.003</td><td>0.003</td></tr></tbody></table></div>"
      ],
      "text/plain": [
       "shape: (404, 9)\n",
       "┌──────────────┬─────────┬──────┬─────────────┬───┬───────────┬────────┬─────────────┬─────────────┐\n",
       "│ time         ┆ symbol  ┆ side ┆ original_qu ┆ … ┆ avg_price ┆ status ┆ last_filled ┆ filled_accu │\n",
       "│ ---          ┆ ---     ┆ ---  ┆ antity      ┆   ┆ ---       ┆ ---    ┆ _quantity   ┆ m_quantity  │\n",
       "│ datetime[μs] ┆ str     ┆ str  ┆ ---         ┆   ┆ f64       ┆ str    ┆ ---         ┆ ---         │\n",
       "│              ┆         ┆      ┆ f64         ┆   ┆           ┆        ┆ f64         ┆ f64         │\n",
       "╞══════════════╪═════════╪══════╪═════════════╪═══╪═══════════╪════════╪═════════════╪═════════════╡\n",
       "│ 2025-04-19   ┆ BTCUSDT ┆ SELL ┆ 0.004       ┆ … ┆ 84819.9   ┆ null   ┆ null        ┆ null        │\n",
       "│ 19:10:24     ┆         ┆      ┆             ┆   ┆           ┆        ┆             ┆             │\n",
       "│ 2025-04-19   ┆ BTCUSDT ┆ BUY  ┆ 0.017       ┆ … ┆ 84960.0   ┆ null   ┆ null        ┆ null        │\n",
       "│ 19:18:45     ┆         ┆      ┆             ┆   ┆           ┆        ┆             ┆             │\n",
       "│ 2025-04-19   ┆ BTCUSDT ┆ BUY  ┆ 0.087       ┆ … ┆ 85238.0   ┆ null   ┆ null        ┆ null        │\n",
       "│ 20:31:29     ┆         ┆      ┆             ┆   ┆           ┆        ┆             ┆             │\n",
       "│ 2025-04-19   ┆ BTCUSDT ┆ BUY  ┆ 0.015       ┆ … ┆ 85265.0   ┆ null   ┆ null        ┆ null        │\n",
       "│ 20:34:39     ┆         ┆      ┆             ┆   ┆           ┆        ┆             ┆             │\n",
       "│ 2025-04-19   ┆ BTCUSDT ┆ BUY  ┆ 0.043       ┆ … ┆ 85270.4   ┆ null   ┆ null        ┆ null        │\n",
       "│ 20:35:08     ┆         ┆      ┆             ┆   ┆           ┆        ┆             ┆             │\n",
       "│ …            ┆ …       ┆ …    ┆ …           ┆ … ┆ …         ┆ …      ┆ …           ┆ …           │\n",
       "│ 2025-04-20   ┆ BTCUSDT ┆ SELL ┆ 0.591       ┆ … ┆ 84584.5   ┆ FILLED ┆ 0.591       ┆ 0.591       │\n",
       "│ 16:59:11     ┆         ┆      ┆             ┆   ┆           ┆        ┆             ┆             │\n",
       "│ 2025-04-20   ┆ BTCUSDT ┆ BUY  ┆ 0.002       ┆ … ┆ 84584.6   ┆ FILLED ┆ 0.002       ┆ 0.002       │\n",
       "│ 16:59:14     ┆         ┆      ┆             ┆   ┆           ┆        ┆             ┆             │\n",
       "│ 2025-04-20   ┆ BTCUSDT ┆ SELL ┆ 0.015       ┆ … ┆ 84542.7   ┆ FILLED ┆ 0.007       ┆ 0.015       │\n",
       "│ 17:03:04     ┆         ┆      ┆             ┆   ┆           ┆        ┆             ┆             │\n",
       "│ 2025-04-20   ┆ BTCUSDT ┆ SELL ┆ 0.002       ┆ … ┆ 84522.4   ┆ FILLED ┆ 0.002       ┆ 0.002       │\n",
       "│ 17:03:27     ┆         ┆      ┆             ┆   ┆           ┆        ┆             ┆             │\n",
       "│ 2025-04-20   ┆ BTCUSDT ┆ SELL ┆ 0.003       ┆ … ┆ 84388.1   ┆ FILLED ┆ 0.003       ┆ 0.003       │\n",
       "│ 17:20:52     ┆         ┆      ┆             ┆   ┆           ┆        ┆             ┆             │\n",
       "└──────────────┴─────────┴──────┴─────────────┴───┴───────────┴────────┴─────────────┴─────────────┘"
      ]
     },
     "execution_count": 21,
     "metadata": {},
     "output_type": "execute_result"
    }
   ],
   "source": [
    "df = pl.scan_delta(f\"../{TABLE_LIQUIDATION_PATH}\")\n",
    "\n",
    "display(df.filter(pl.col(\"symbol\") == \"BTCUSDT\").sort(\"time\"))\n",
    "df.filter(pl.col(\"symbol\") == \"BTCUSDT\").sort(\"time\").collect()"
   ]
  },
  {
   "cell_type": "code",
   "execution_count": 31,
   "id": "16402a1f-0d60-4a37-ad9f-e819a2523060",
   "metadata": {},
   "outputs": [],
   "source": [
    "df = pl.read_delta(f\"../{TABLE_LIQUIDATION_PATH}\")"
   ]
  },
  {
   "cell_type": "markdown",
   "id": "b97742f4-4791-471a-8cb5-bdd0a7fc1b0c",
   "metadata": {},
   "source": [
    "# Analyze"
   ]
  },
  {
   "cell_type": "code",
   "execution_count": 40,
   "id": "691830e3-ccff-406a-81d1-0ef8bf4c2fd9",
   "metadata": {},
   "outputs": [],
   "source": [
    "df = df.with_columns(\n",
    "    (pl.col(\"price\") * pl.col(\"filled_accum_quantity\")).alias(\"usd_amount\")\n",
    ")"
   ]
  },
  {
   "cell_type": "code",
   "execution_count": 42,
   "id": "12af7190-ea87-4df7-adfe-d10bf2360061",
   "metadata": {},
   "outputs": [
    {
     "data": {
      "text/html": [
       "<div><style>\n",
       ".dataframe > thead > tr,\n",
       ".dataframe > tbody > tr {\n",
       "  text-align: right;\n",
       "  white-space: pre-wrap;\n",
       "}\n",
       "</style>\n",
       "<small>shape: (9, 2)</small><table border=\"1\" class=\"dataframe\"><thead><tr><th>statistic</th><th>value</th></tr><tr><td>str</td><td>f64</td></tr></thead><tbody><tr><td>&quot;count&quot;</td><td>4704.0</td></tr><tr><td>&quot;null_count&quot;</td><td>14165.0</td></tr><tr><td>&quot;mean&quot;</td><td>1483.696187</td></tr><tr><td>&quot;std&quot;</td><td>8166.765785</td></tr><tr><td>&quot;min&quot;</td><td>0.001302</td></tr><tr><td>&quot;25%&quot;</td><td>41.460955</td></tr><tr><td>&quot;50%&quot;</td><td>194.6217</td></tr><tr><td>&quot;75%&quot;</td><td>813.103784</td></tr><tr><td>&quot;max&quot;</td><td>303348.0</td></tr></tbody></table></div>"
      ],
      "text/plain": [
       "shape: (9, 2)\n",
       "┌────────────┬─────────────┐\n",
       "│ statistic  ┆ value       │\n",
       "│ ---        ┆ ---         │\n",
       "│ str        ┆ f64         │\n",
       "╞════════════╪═════════════╡\n",
       "│ count      ┆ 4704.0      │\n",
       "│ null_count ┆ 14165.0     │\n",
       "│ mean       ┆ 1483.696187 │\n",
       "│ std        ┆ 8166.765785 │\n",
       "│ min        ┆ 0.001302    │\n",
       "│ 25%        ┆ 41.460955   │\n",
       "│ 50%        ┆ 194.6217    │\n",
       "│ 75%        ┆ 813.103784  │\n",
       "│ max        ┆ 303348.0    │\n",
       "└────────────┴─────────────┘"
      ]
     },
     "execution_count": 42,
     "metadata": {},
     "output_type": "execute_result"
    }
   ],
   "source": [
    "df[\"usd_amount\"].describe()"
   ]
  },
  {
   "cell_type": "code",
   "execution_count": 51,
   "id": "61106cab-1707-4015-88f7-360777c507a2",
   "metadata": {},
   "outputs": [
    {
     "data": {
      "text/html": [
       "<div><style>\n",
       ".dataframe > thead > tr,\n",
       ".dataframe > tbody > tr {\n",
       "  text-align: right;\n",
       "  white-space: pre-wrap;\n",
       "}\n",
       "</style>\n",
       "<small>shape: (9, 2)</small><table border=\"1\" class=\"dataframe\"><thead><tr><th>statistic</th><th>usd_amount</th></tr><tr><td>str</td><td>f64</td></tr></thead><tbody><tr><td>&quot;count&quot;</td><td>89.0</td></tr><tr><td>&quot;null_count&quot;</td><td>0.0</td></tr><tr><td>&quot;mean&quot;</td><td>36270.155374</td></tr><tr><td>&quot;std&quot;</td><td>46810.214733</td></tr><tr><td>&quot;min&quot;</td><td>10025.767664</td></tr><tr><td>&quot;25%&quot;</td><td>13764.526776</td></tr><tr><td>&quot;50%&quot;</td><td>18970.38</td></tr><tr><td>&quot;75%&quot;</td><td>38831.131241</td></tr><tr><td>&quot;max&quot;</td><td>303348.0</td></tr></tbody></table></div>"
      ],
      "text/plain": [
       "shape: (9, 2)\n",
       "┌────────────┬──────────────┐\n",
       "│ statistic  ┆ usd_amount   │\n",
       "│ ---        ┆ ---          │\n",
       "│ str        ┆ f64          │\n",
       "╞════════════╪══════════════╡\n",
       "│ count      ┆ 89.0         │\n",
       "│ null_count ┆ 0.0          │\n",
       "│ mean       ┆ 36270.155374 │\n",
       "│ std        ┆ 46810.214733 │\n",
       "│ min        ┆ 10025.767664 │\n",
       "│ 25%        ┆ 13764.526776 │\n",
       "│ 50%        ┆ 18970.38     │\n",
       "│ 75%        ┆ 38831.131241 │\n",
       "│ max        ┆ 303348.0     │\n",
       "└────────────┴──────────────┘"
      ]
     },
     "execution_count": 51,
     "metadata": {},
     "output_type": "execute_result"
    }
   ],
   "source": [
    "df.filter(pl.col(\"usd_amount\") >= 10_000).select(\"usd_amount\").describe()"
   ]
  },
  {
   "cell_type": "code",
   "execution_count": 49,
   "id": "d2656534-23f9-4187-8146-d9ae9886e3ee",
   "metadata": {},
   "outputs": [
    {
     "data": {
      "text/plain": [
       "<seaborn.axisgrid.FacetGrid at 0x7f1d0cb45070>"
      ]
     },
     "execution_count": 49,
     "metadata": {},
     "output_type": "execute_result"
    },
    {
     "data": {
      "image/png": "[encoded data removed]",
      "text/plain": [
       "<Figure size 558.75x500 with 1 Axes>"
      ]
     },
     "metadata": {},
     "output_type": "display_data"
    }
   ],
   "source": [
    "sns.displot(df.filter(pl.col(\"usd_amount\") < 10_000).select(\"usd_amount\"))"
   ]
  },
  {
   "cell_type": "code",
   "execution_count": 52,
   "id": "fba3f162-5afc-47a9-ad5d-9bb75d81fd36",
   "metadata": {},
   "outputs": [
    {
     "data": {
      "text/plain": [
       "<seaborn.axisgrid.FacetGrid at 0x7f1d0dfca2a0>"
      ]
     },
     "execution_count": 52,
     "metadata": {},
     "output_type": "execute_result"
    },
    {
     "data": {
      "image/png": "[encoded data removed]",
      "text/plain": [
       "<Figure size 558.75x500 with 1 Axes>"
      ]
     },
     "metadata": {},
     "output_type": "display_data"
    }
   ],
   "source": [
    "sns.displot(df.filter(pl.col(\"usd_amount\") >= 10_000).select(\"usd_amount\"))"
   ]
  },
  {
   "cell_type": "code",
   "execution_count": 58,
   "id": "4b3657de-c416-4711-acef-18e53baa2f93",
   "metadata": {},
   "outputs": [
    {
     "data": {
      "text/html": [
       "<div><style>\n",
       ".dataframe > thead > tr,\n",
       ".dataframe > tbody > tr {\n",
       "  text-align: right;\n",
       "  white-space: pre-wrap;\n",
       "}\n",
       "</style>\n",
       "<small>shape: (9, 3)</small><table border=\"1\" class=\"dataframe\"><thead><tr><th>symbol</th><th>side</th><th>len</th></tr><tr><td>str</td><td>str</td><td>u32</td></tr></thead><tbody><tr><td>&quot;BTCUSDT&quot;</td><td>&quot;SELL&quot;</td><td>15</td></tr><tr><td>&quot;ETHUSDT&quot;</td><td>&quot;SELL&quot;</td><td>12</td></tr><tr><td>&quot;BTCUSDC&quot;</td><td>&quot;SELL&quot;</td><td>6</td></tr><tr><td>&quot;DOGEUSDT&quot;</td><td>&quot;SELL&quot;</td><td>5</td></tr><tr><td>&quot;1000PEPEUSDT&quot;</td><td>&quot;SELL&quot;</td><td>4</td></tr><tr><td>&quot;BROCCOLIF3BUSDT&quot;</td><td>&quot;BUY&quot;</td><td>3</td></tr><tr><td>&quot;SUIUSDT&quot;</td><td>&quot;SELL&quot;</td><td>3</td></tr><tr><td>&quot;SOLUSDT&quot;</td><td>&quot;SELL&quot;</td><td>3</td></tr><tr><td>&quot;ETHUSDC&quot;</td><td>&quot;SELL&quot;</td><td>3</td></tr></tbody></table></div>"
      ],
      "text/plain": [
       "shape: (9, 3)\n",
       "┌─────────────────┬──────┬─────┐\n",
       "│ symbol          ┆ side ┆ len │\n",
       "│ ---             ┆ ---  ┆ --- │\n",
       "│ str             ┆ str  ┆ u32 │\n",
       "╞═════════════════╪══════╪═════╡\n",
       "│ BTCUSDT         ┆ SELL ┆ 15  │\n",
       "│ ETHUSDT         ┆ SELL ┆ 12  │\n",
       "│ BTCUSDC         ┆ SELL ┆ 6   │\n",
       "│ DOGEUSDT        ┆ SELL ┆ 5   │\n",
       "│ 1000PEPEUSDT    ┆ SELL ┆ 4   │\n",
       "│ BROCCOLIF3BUSDT ┆ BUY  ┆ 3   │\n",
       "│ SUIUSDT         ┆ SELL ┆ 3   │\n",
       "│ SOLUSDT         ┆ SELL ┆ 3   │\n",
       "│ ETHUSDC         ┆ SELL ┆ 3   │\n",
       "└─────────────────┴──────┴─────┘"
      ]
     },
     "execution_count": 58,
     "metadata": {},
     "output_type": "execute_result"
    }
   ],
   "source": [
    "df.filter(pl.col(\"usd_amount\") >= 10_000).group_by([\"symbol\", \"side\"]).len().filter(pl.col(\"len\") > 2).sort(\"len\", descending=True)"
   ]
  },
  {
   "cell_type": "code",
   "execution_count": null,
   "id": "6030973c-94e6-4636-aa3f-d06869f260a6",
   "metadata": {},
   "outputs": [],
   "source": []
  }
 ],
 "metadata": {
  "kernelspec": {
   "display_name": "crypto_deltalake",
   "language": "python",
   "name": "crypto_deltalake"
  },
  "language_info": {
   "codemirror_mode": {
    "name": "ipython",
    "version": 3
   },
   "file_extension": ".py",
   "mimetype": "text/x-python",
   "name": "python",
   "nbconvert_exporter": "python",
   "pygments_lexer": "ipython3",
   "version": "3.12.5"
  }
 },
 "nbformat": 4,
 "nbformat_minor": 5
}
